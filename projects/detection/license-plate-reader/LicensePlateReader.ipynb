{
 "cells": [
  {
   "cell_type": "code",
   "execution_count": 1,
   "id": "d04bbd32",
   "metadata": {},
   "outputs": [],
   "source": [
    "import cv2\n",
    "import imutils\n",
    "import numpy\n",
    "import pytesseract\n",
    "\n",
    "from skimage.segmentation import clear_border"
   ]
  },
  {
   "cell_type": "code",
   "execution_count": null,
   "id": "98e1aca5",
   "metadata": {},
   "outputs": [],
   "source": [
    "class LicensePlateReader:\n",
    "    \n",
    "    \n",
    "    def __init__(self, minAspectRatio=4, maxAspectRatio=5, debugMode=False):\n",
    "        \n",
    "        self.minAspectRatio = minAspectRatio\n",
    "        self.maxAspectRatio = maxAspectRatio\n",
    "        self.debugMode = debugMode\n",
    "        \n",
    "        \n",
    "    def debug_imshow(self, title, image, waitKey=False):\n",
    "        \n",
    "        if self.debugMode:\n",
    "            cv2.imshow(title, image)\n",
    "            \n",
    "            if waitKey:\n",
    "                cv2.waitKey(0)\n",
    "                \n",
    "                \n",
    "    def locate_license_plate(self, grayImage, keep=5):\n",
    "        \n",
    "        rectangleKernel = cv2.getStructuringElement(cv2.MORPH_RECT, (13, 5))\n",
    "        blackHat = cv2.morphologyEx(grayImage, cv2.MORPH_BLACKHAT, rectangleKernel)\n",
    "        self.debug_imshow(\"Black Hat\", blackHat)\n",
    "        \n",
    "        squareKernel = cv2.getStructuringElement(cv2.MORPH_RECT, (3, 3))\n",
    "        morphCloseImage = cv2.morphologyEx(grayImage, cv2.MORPH_CLOSE, squareKernel)\n",
    "        thresholdImage = cv2.threshold(morphCloseImage, 0, 255, cv2.THRESH_BINARY | cv2.THRESH_OTSU)[1]\n",
    "        self.debug_imshow(\"Black Hat\", thresholdImage)\n",
    "        \n",
    "        gradientX = cv2.Sobel(blackHat, ddepth=cv2.CV_32F, dx=1, dy=0, ksize=-1)\n",
    "        gradientX = numpy.absolute(gradientX)\n",
    "        \n",
    "        minValue = numpy.min(gradientX)\n",
    "        maxValue = numpy.max(gradientX)\n",
    "        \n",
    "        gradientX = 255 * ((gradientX - minValue) / (maxValue - minValue))\n",
    "        gradientX = gradientX.asType(\"uint8\")\n",
    "        self.debug_imshow(\"Scharr\", gradientX)\n",
    "        \n",
    "        gradientX = cv2.GaussianBlur(gradientX, (5, 5), 0)\n",
    "        gradientX = cv2.morphologyEx(gradientX, cv2.MORPH_CLOSE, rectangleKernel)\n",
    "        thresholdGradient = cv2.threshold(gradientX, 0, 255, cv2.THRESH_BINARY | cv2.THRESH_OTSU)[1]\n",
    "        self.debug_imshow(\"Gradient Threshold\", thresholdGradient)"
   ]
  }
 ],
 "metadata": {
  "kernelspec": {
   "display_name": "Python 3 (ipykernel)",
   "language": "python",
   "name": "python3"
  },
  "language_info": {
   "codemirror_mode": {
    "name": "ipython",
    "version": 3
   },
   "file_extension": ".py",
   "mimetype": "text/x-python",
   "name": "python",
   "nbconvert_exporter": "python",
   "pygments_lexer": "ipython3",
   "version": "3.8.9"
  }
 },
 "nbformat": 4,
 "nbformat_minor": 5
}
