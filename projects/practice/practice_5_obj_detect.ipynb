{
 "cells": [
  {
   "cell_type": "code",
   "execution_count": 2,
   "id": "6cd422b9",
   "metadata": {},
   "outputs": [
    {
     "name": "stdout",
     "output_type": "stream",
     "text": [
      "Requirement already satisfied: cython in /Users/vdrumea/PersonalProjects/computer-vision-camp/projects/venv/lib/python3.8/site-packages (0.29.24)\n",
      "Collecting git+https://github.com/cocodataset/cocoapi.git#subdirectory=PythonAPI\n",
      "  Cloning https://github.com/cocodataset/cocoapi.git to /private/var/folders/pv/j3lp9mpj7sd18405pv1mtwfm0000gn/T/pip-req-build-g1_nyyfx\n",
      "  Running command git clone --filter=blob:none -q https://github.com/cocodataset/cocoapi.git /private/var/folders/pv/j3lp9mpj7sd18405pv1mtwfm0000gn/T/pip-req-build-g1_nyyfx\n",
      "  Resolved https://github.com/cocodataset/cocoapi.git to commit 8c9bcc3cf640524c4c20a9c40e89cb6a2f2fa0e9\n",
      "  Preparing metadata (setup.py) ... \u001b[?25ldone\n",
      "\u001b[?25hRequirement already satisfied: setuptools>=18.0 in /Users/vdrumea/PersonalProjects/computer-vision-camp/projects/venv/lib/python3.8/site-packages (from pycocotools==2.0) (58.2.0)\n",
      "Requirement already satisfied: cython>=0.27.3 in /Users/vdrumea/PersonalProjects/computer-vision-camp/projects/venv/lib/python3.8/site-packages (from pycocotools==2.0) (0.29.24)\n",
      "Requirement already satisfied: matplotlib>=2.1.0 in /Users/vdrumea/PersonalProjects/computer-vision-camp/projects/venv/lib/python3.8/site-packages (from pycocotools==2.0) (3.4.3)\n",
      "Requirement already satisfied: pillow>=6.2.0 in /Users/vdrumea/PersonalProjects/computer-vision-camp/projects/venv/lib/python3.8/site-packages (from matplotlib>=2.1.0->pycocotools==2.0) (8.3.2)\n",
      "Requirement already satisfied: python-dateutil>=2.7 in /Users/vdrumea/PersonalProjects/computer-vision-camp/projects/venv/lib/python3.8/site-packages (from matplotlib>=2.1.0->pycocotools==2.0) (2.8.2)\n",
      "Requirement already satisfied: numpy>=1.16 in /Users/vdrumea/PersonalProjects/computer-vision-camp/projects/venv/lib/python3.8/site-packages (from matplotlib>=2.1.0->pycocotools==2.0) (1.17.4)\n",
      "Requirement already satisfied: cycler>=0.10 in /Users/vdrumea/PersonalProjects/computer-vision-camp/projects/venv/lib/python3.8/site-packages (from matplotlib>=2.1.0->pycocotools==2.0) (0.10.0)\n",
      "Requirement already satisfied: pyparsing>=2.2.1 in /Users/vdrumea/PersonalProjects/computer-vision-camp/projects/venv/lib/python3.8/site-packages (from matplotlib>=2.1.0->pycocotools==2.0) (2.4.7)\n",
      "Requirement already satisfied: kiwisolver>=1.0.1 in /Users/vdrumea/PersonalProjects/computer-vision-camp/projects/venv/lib/python3.8/site-packages (from matplotlib>=2.1.0->pycocotools==2.0) (1.3.2)\n",
      "Requirement already satisfied: six in /Users/vdrumea/PersonalProjects/computer-vision-camp/projects/venv/lib/python3.8/site-packages (from cycler>=0.10->matplotlib>=2.1.0->pycocotools==2.0) (1.15.0)\n",
      "Using legacy 'setup.py install' for pycocotools, since package 'wheel' is not installed.\n",
      "Installing collected packages: pycocotools\n",
      "  Attempting uninstall: pycocotools\n",
      "    Found existing installation: pycocotools 2.0.2\n",
      "    Uninstalling pycocotools-2.0.2:\n",
      "      Successfully uninstalled pycocotools-2.0.2\n",
      "    Running setup.py install for pycocotools ... \u001b[?25ldone\n",
      "\u001b[?25hSuccessfully installed pycocotools-2.0\n",
      "Cloning into 'vision'...\n",
      "remote: Enumerating objects: 43404, done.\u001b[K\n",
      "remote: Counting objects: 100% (8878/8878), done.\u001b[K\n",
      "remote: Compressing objects: 100% (2197/2197), done.\u001b[K\n",
      "remote: Total 43404 (delta 6935), reused 8226 (delta 6510), pack-reused 34526\n",
      "Receiving objects: 100% (43404/43404), 69.52 MiB | 1.84 MiB/s, done.\n",
      "Resolving deltas: 100% (33479/33479), done.\n",
      "Note: switching to 'v0.3.0'.\n",
      "\n",
      "You are in 'detached HEAD' state. You can look around, make experimental\n",
      "changes and commit them, and you can discard any commits you make in this\n",
      "state without impacting any branches by switching back to a branch.\n",
      "\n",
      "If you want to create a new branch to retain commits you create, you may\n",
      "do so (now or later) by using -c with the switch command. Example:\n",
      "\n",
      "  git switch -c <new-branch-name>\n",
      "\n",
      "Or undo this operation with:\n",
      "\n",
      "  git switch -\n",
      "\n",
      "Turn off this advice by setting config variable advice.detachedHead to false\n",
      "\n",
      "HEAD is now at be376084 version check against PyTorch's CUDA version\n"
     ]
    }
   ],
   "source": [
    "!pip install cython\n",
    "# Install pycocotools, the version by default in Colab\n",
    "# has a bug fixed in https://github.com/cocodataset/cocoapi/pull/354\n",
    "!pip install -U 'git+https://github.com/cocodataset/cocoapi.git#subdirectory=PythonAPI'\n",
    "\n",
    "# Download TorchVision repo to use some files from\n",
    "# references/detection\n",
    "!git clone https://github.com/pytorch/vision.git\n",
    "!cd vision && git checkout v0.3.0\n",
    "!cp vision/references/detection/utils.py ./\n",
    "!cp vision/references/detection/transforms.py ./\n",
    "!cp vision/references/detection/coco_eval.py ./\n",
    "!cp vision/references/detection/engine.py ./\n",
    "!cp vision/references/detection/coco_utils.py ./"
   ]
  },
  {
   "cell_type": "code",
   "execution_count": 3,
   "id": "768c23a3",
   "metadata": {},
   "outputs": [],
   "source": [
    "import numpy as np\n",
    "import torch\n",
    "import torch.utils.data\n",
    "from PIL import Image\n",
    "import pandas as pd\n",
    "\n",
    "from torchvision.models.detection.faster_rcnn import FastRCNNPredictor\n",
    "import torchvision\n",
    "\n",
    "from PIL.ExifTags import TAGS\n",
    "from engine import train_one_epoch, evaluate\n",
    "import utils\n",
    "from torchvision import transforms as T  "
   ]
  },
  {
   "cell_type": "code",
   "execution_count": null,
   "id": "b13505f1",
   "metadata": {},
   "outputs": [],
   "source": []
  }
 ],
 "metadata": {
  "kernelspec": {
   "display_name": "Python 3 (ipykernel)",
   "language": "python",
   "name": "python3"
  },
  "language_info": {
   "codemirror_mode": {
    "name": "ipython",
    "version": 3
   },
   "file_extension": ".py",
   "mimetype": "text/x-python",
   "name": "python",
   "nbconvert_exporter": "python",
   "pygments_lexer": "ipython3",
   "version": "3.8.9"
  }
 },
 "nbformat": 4,
 "nbformat_minor": 5
}
