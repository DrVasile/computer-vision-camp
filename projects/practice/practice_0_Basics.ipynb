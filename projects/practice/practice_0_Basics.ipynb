{
 "cells": [
  {
   "cell_type": "code",
   "execution_count": 8,
   "id": "16ad272e",
   "metadata": {},
   "outputs": [],
   "source": [
    "def get_number_of_days_by_month(month):\n",
    "    months_tuple = (31, 28, 31, 30, 31, 30, 31, 31, 30, 31, 30, 31)\n",
    "    \n",
    "    return months_tuple[month % 12]"
   ]
  },
  {
   "cell_type": "code",
   "execution_count": 9,
   "id": "8b43d9bf",
   "metadata": {
    "scrolled": true
   },
   "outputs": [
    {
     "name": "stdout",
     "output_type": "stream",
     "text": [
      "Result for 0: 31\n",
      "Result for 1: 28\n",
      "Result for 5: 30\n",
      "Result for 11: 31\n",
      "Result for 4: 31\n",
      "Result for 23: 31\n"
     ]
    }
   ],
   "source": [
    "test_cases = (0, 1, 5, 11, 4, 23)\n",
    "\n",
    "for test in test_cases:\n",
    "    print(\"Result for \" + str(test) + \": \" + str(get_number_of_days_by_month(test)))"
   ]
  },
  {
   "cell_type": "code",
   "execution_count": 14,
   "id": "161d62b8",
   "metadata": {},
   "outputs": [],
   "source": [
    "def get_number_of_days_by_month_year(month, year):\n",
    "    months_tuple = (31, 28, 31, 30, 31, 30, 31, 31, 30, 31, 30, 31)\n",
    "    months_tuple_leap_year = (31, 29, 31, 30, 31, 30, 31, 31, 30, 31, 30, 31)\n",
    "    \n",
    "    is_leap_year = year % 4 == 0\n",
    "    \n",
    "    print(\"The year \" + str(year) + (\" is leap.\" if is_leap_year else \" is not leap.\"))\n",
    "    \n",
    "    return months_tuple_leap_year[month] if is_leap_year else months_tuple[month]"
   ]
  },
  {
   "cell_type": "code",
   "execution_count": 15,
   "id": "72d05b40",
   "metadata": {},
   "outputs": [
    {
     "name": "stdout",
     "output_type": "stream",
     "text": [
      "The year 2020 is leap.\n",
      "Result for (0, 2020): 31\n",
      "\n",
      "\n",
      "The year 2000 is leap.\n",
      "Result for (1, 2000): 29\n",
      "\n",
      "\n",
      "The year 3030 is not leap.\n",
      "Result for (5, 3030): 30\n",
      "\n",
      "\n",
      "The year 103 is not leap.\n",
      "Result for (11, 103): 31\n",
      "\n",
      "\n",
      "The year 1945 is not leap.\n",
      "Result for (4, 1945): 31\n",
      "\n",
      "\n",
      "The year 1997 is not leap.\n",
      "Result for (6, 1997): 31\n",
      "\n",
      "\n"
     ]
    }
   ],
   "source": [
    "test_cases = ((0, 2020), (1, 2000), (5, 3030), (11, 103), (4, 1945), (6, 1997))\n",
    "\n",
    "for test in test_cases:\n",
    "    print(\"Result for \" + str(test) + \": \" + str(get_number_of_days_by_month_year(test[0], test[1])))\n",
    "    print('\\n')"
   ]
  },
  {
   "cell_type": "code",
   "execution_count": null,
   "id": "f43481f5",
   "metadata": {},
   "outputs": [],
   "source": []
  }
 ],
 "metadata": {
  "kernelspec": {
   "display_name": "Python 3 (ipykernel)",
   "language": "python",
   "name": "python3"
  },
  "language_info": {
   "codemirror_mode": {
    "name": "ipython",
    "version": 3
   },
   "file_extension": ".py",
   "mimetype": "text/x-python",
   "name": "python",
   "nbconvert_exporter": "python",
   "pygments_lexer": "ipython3",
   "version": "3.8.10"
  }
 },
 "nbformat": 4,
 "nbformat_minor": 5
}
