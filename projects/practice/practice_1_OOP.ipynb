{
 "cells": [
  {
   "cell_type": "code",
   "execution_count": 14,
   "id": "13d8e9ad",
   "metadata": {},
   "outputs": [],
   "source": [
    "class UniversityEmployee:\n",
    "    emType = \"default\";\n",
    "    hasPhd = False;\n",
    "    \n",
    "    def __str__(self):\n",
    "        return \"{ emType : \" + str(self.emType) + \", \" + \"hasPhd : \" + str(self.hasPhd) + \" }\\n\";\n",
    "    \n",
    "    def doAction(self):\n",
    "        print(\"Default action.\\n\");\n",
    "    "
   ]
  },
  {
   "cell_type": "code",
   "execution_count": 15,
   "id": "87626782",
   "metadata": {},
   "outputs": [],
   "source": [
    "class Rector(UniversityEmployee):\n",
    "    def __init__(self):\n",
    "        self.emType = \"rector\";\n",
    "        self.hasPhd = True;\n",
    "    \n",
    "    def doAction(self):\n",
    "        print(\"Rector action.\\n\");\n",
    "        \n",
    "    "
   ]
  },
  {
   "cell_type": "code",
   "execution_count": 16,
   "id": "1c47ad9f",
   "metadata": {},
   "outputs": [],
   "source": [
    "class Professor(UniversityEmployee):\n",
    "    def __init__(self):\n",
    "        self.emType = \"professor\";\n",
    "        self.hasPhd = True;\n",
    "        \n",
    "    def doAction(self):\n",
    "        print(\"Professor action.\\n\");\n",
    "        \n",
    "    def teachClass(self):\n",
    "        print(\"Teach class as a professor.\\n\")"
   ]
  },
  {
   "cell_type": "code",
   "execution_count": 17,
   "id": "ec36188f",
   "metadata": {},
   "outputs": [],
   "source": [
    "class Assistant(UniversityEmployee):\n",
    "    def __init__(self):\n",
    "        self.emType = \"assistant\";\n",
    "        self.hasPhd = False;\n",
    "        \n",
    "    def doAction(self):\n",
    "        print(\"Assistant action.\\n\");\n",
    "        \n",
    "    def superviseLabs(self):\n",
    "        print(\"Supervise students at labs.\\n\")"
   ]
  },
  {
   "cell_type": "code",
   "execution_count": 18,
   "id": "8b829727",
   "metadata": {},
   "outputs": [
    {
     "name": "stdout",
     "output_type": "stream",
     "text": [
      "Default action.\n",
      "\n",
      "Rector action.\n",
      "\n",
      "Professor action.\n",
      "\n",
      "Assistant action.\n",
      "\n",
      "{ emType : default, hasPhd : False }\n",
      "\n",
      "{ emType : rector, hasPhd : True }\n",
      "\n",
      "{ emType : professor, hasPhd : True }\n",
      "\n",
      "{ emType : assistant, hasPhd : False }\n",
      "\n"
     ]
    }
   ],
   "source": [
    "object0 = UniversityEmployee();\n",
    "object1 = Rector();\n",
    "object2 = Professor();\n",
    "object3 = Assistant();\n",
    "\n",
    "object0.doAction();\n",
    "object1.doAction();\n",
    "object2.doAction();\n",
    "object3.doAction();\n",
    "\n",
    "print(str(object0));\n",
    "print(str(object1));\n",
    "print(str(object2));\n",
    "print(str(object3));\n"
   ]
  },
  {
   "cell_type": "code",
   "execution_count": null,
   "id": "29a4344e",
   "metadata": {},
   "outputs": [],
   "source": []
  }
 ],
 "metadata": {
  "kernelspec": {
   "display_name": "Python 3 (ipykernel)",
   "language": "python",
   "name": "python3"
  },
  "language_info": {
   "codemirror_mode": {
    "name": "ipython",
    "version": 3
   },
   "file_extension": ".py",
   "mimetype": "text/x-python",
   "name": "python",
   "nbconvert_exporter": "python",
   "pygments_lexer": "ipython3",
   "version": "3.8.9"
  }
 },
 "nbformat": 4,
 "nbformat_minor": 5
}
